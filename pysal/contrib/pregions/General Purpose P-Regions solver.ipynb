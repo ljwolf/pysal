{
 "cells": [
  {
   "cell_type": "markdown",
   "metadata": {},
   "source": [
    "This is an introduction to [ljwolf](https://github.com/ljwolf)'s general purpose p-regions solver."
   ]
  },
  {
   "cell_type": "code",
   "execution_count": 1,
   "metadata": {
    "collapsed": false
   },
   "outputs": [],
   "source": [
    "import pysal as ps\n",
    "import pr_build as prb\n",
    "import pr_classes as prc\n",
    "import compactness as com\n",
    "import numpy as np\n",
    "import descartes as d\n",
    "import matplotlib.pyplot as plt\n",
    "%matplotlib inline"
   ]
  },
  {
   "cell_type": "markdown",
   "metadata": {},
   "source": [
    "First, the main idea is that the inheritance structure works as follows:\n",
    "\n",
    "Every problem must have an *Area* in which the problem exists, and an *objective* against which the grouping should occur. The regionalization problem attempts to find some *Region* or *Regions* that groups the *Area* into a specified number of regions. Each *Area* and each *Region* is composed of constituent *Atoms* which represent the smallest unit of study. \n",
    "\n",
    "That is, \n",
    "\n",
    "        Area -> (is composed of) Region -> (is composed of) Atoms\n",
    "          V\n",
    "        (has)\n",
    "          V\n",
    "        Objective -> (applied in each) Region -> (on) Atoms"
   ]
  },
  {
   "cell_type": "markdown",
   "metadata": {},
   "source": [
    "Let's do an example grouping housing values in columbus into similar regions. First, we must define our region."
   ]
  },
  {
   "cell_type": "code",
   "execution_count": 2,
   "metadata": {
    "collapsed": false
   },
   "outputs": [],
   "source": [
    "A = prc.Area(ps.examples.get_path('columbus'), contiguity='rook')"
   ]
  },
  {
   "cell_type": "markdown",
   "metadata": {},
   "source": [
    "First, we need to think of the objective. A classic one used in the literature, is to group Regions in an attempt to reduce variance within the Region. Since I'm interested in congressional districts, let's do that with some constraints.\n",
    "\n",
    "The objective is a variance minimization objective: minimize the absolute deviation within the region from the global mean. To do this, we need to calculate the global mean. The Regions hold the information about the map in themselves, and can be accessed by standard pysal methods."
   ]
  },
  {
   "cell_type": "code",
   "execution_count": 3,
   "metadata": {
    "collapsed": false
   },
   "outputs": [
    {
     "data": {
      "text/plain": [
       "38.436224469387753"
      ]
     },
     "execution_count": 3,
     "metadata": {},
     "output_type": "execute_result"
    }
   ],
   "source": [
    "np.mean(A.df.by_col('HOVAL'))"
   ]
  },
  {
   "cell_type": "code",
   "execution_count": 4,
   "metadata": {
    "collapsed": true
   },
   "outputs": [],
   "source": [
    "def vartarget(atoms, field):\n",
    "    v = sum([atom.record[field] for atom in atoms])\n",
    "    target = 350\n",
    "    return np.absolute(target - v)"
   ]
  },
  {
   "cell_type": "markdown",
   "metadata": {},
   "source": [
    "Then, we pass this to an objective class constructor, and bind the column against which it should apply. Here, we'll use housing values, with a key `HOVAL`."
   ]
  },
  {
   "cell_type": "code",
   "execution_count": 5,
   "metadata": {
    "collapsed": false
   },
   "outputs": [],
   "source": [
    "q = prc.Objective()\n",
    "q.add_objective(vartarget, 'HOVAL')\n",
    "A.set_obj_fn(q)"
   ]
  },
  {
   "cell_type": "markdown",
   "metadata": {},
   "source": [
    "Then, we can initialize the problem. This precomputes some aspects of the problem, assigns some temporary variables, and structures the problem, and discovers all enclaves. This is a way to validate the problem and clean the solution space."
   ]
  },
  {
   "cell_type": "code",
   "execution_count": 6,
   "metadata": {
    "collapsed": false
   },
   "outputs": [
    {
     "name": "stdout",
     "output_type": "stream",
     "text": [
      "Neighbors: [0, 1, 3, 4]\n",
      "Neighbors available: [0, 1, 3, 4]\n",
      "Added  0 to 0\n",
      "Neighbors: [6, 7, 10, 12, 13, 15]\n",
      "Neighbors available: [6, 7, 10, 12, 15]\n",
      "Added  6 to 1\n",
      "Neighbors: [6, 11, 12, 15, 17, 18]\n",
      "Neighbors available: [12, 15, 17, 18]\n",
      "Added  18 to 2\n",
      "Neighbors: [32, 34, 39, 8, 9, 16, 21, 22, 26, 31]\n",
      "Neighbors available: [32, 34, 39, 8, 9, 16, 21, 22, 26, 31]\n",
      "Added  22 to 3\n",
      "Neighbors: [37, 42, 44, 27, 28, 29]\n",
      "Neighbors available: [37, 42, 44, 27, 28, 29]\n",
      "Added  37 to 4\n",
      "Neighbors: [0, 1, 2, 3, 4]\n",
      "Neighbors available: [1, 3, 4]\n",
      "Added  4 to 0\n",
      "Neighbors: [6, 7, 10, 11, 12, 13, 15]\n",
      "Neighbors available: [7, 10, 12, 15]\n",
      "Added  12 to 1\n",
      "Neighbors: [6, 11, 12, 13, 15, 17, 18, 23]\n",
      "Neighbors available: [15, 17, 23]\n",
      "Added  15 to 2\n",
      "Neighbors: [32, 34, 39, 8, 9, 16, 19, 21, 22, 26, 31]\n",
      "Neighbors available: [32, 34, 39, 8, 9, 16, 21, 26, 31]\n",
      "Added  39 to 3\n",
      "Neighbors: [34, 36, 37, 42, 43, 44, 27, 28, 29]\n",
      "Neighbors available: [34, 42, 43, 44, 27, 28, 29]\n",
      "Added  28 to 4\n",
      "Neighbors: [0, 1, 2, 3, 4, 5, 7, 8, 10, 14, 15]\n",
      "Neighbors available: [1, 3, 5, 7, 8, 10, 14]\n",
      "Added  5 to 0\n",
      "Neighbors: [6, 7, 10, 11, 12, 13, 15]\n",
      "Neighbors available: [7, 10]\n",
      "Added  7 to 1\n",
      "Neighbors: [4, 6, 10, 11, 12, 13, 14, 15, 17, 18, 23, 24]\n",
      "Neighbors available: [10, 14, 17, 23, 24]\n",
      "Added  17 to 2\n",
      "Neighbors: [32, 34, 39, 8, 9, 46, 16, 40, 19, 21, 22, 26, 31]\n",
      "Neighbors available: [32, 34, 8, 9, 46, 16, 40, 21, 26, 31]\n",
      "Added  34 to 3\n",
      "Neighbors: [34, 36, 37, 42, 43, 44, 23, 24, 25, 27, 28, 29]\n",
      "Neighbors available: [42, 43, 44, 23, 24, 25, 27, 29]\n",
      "Added  42 to 4\n",
      "Neighbors: [0, 1, 2, 3, 4, 5, 7, 8, 10, 14, 15]\n",
      "Neighbors available: [1, 3, 8, 10, 14]\n",
      "Added  1 to 0\n",
      "Neighbors: [3, 4, 6, 7, 10, 11, 12, 13, 15]\n",
      "Neighbors available: [3, 10]\n",
      "Added  10 to 1\n",
      "Neighbors: [4, 6, 10, 11, 12, 13, 14, 15, 17, 18, 23, 24]\n",
      "Neighbors available: [14, 23, 24]\n",
      "Added  14 to 2\n",
      "Neighbors: [32, 34, 37, 39, 8, 9, 42, 43, 46, 16, 40, 19, 21, 22, 26, 27, 31]\n",
      "Neighbors available: [32, 8, 9, 43, 46, 16, 40, 21, 26, 27, 31]\n",
      "Added  31 to 3\n",
      "Neighbors: [34, 36, 37, 42, 43, 44, 47, 23, 24, 25, 27, 28, 29]\n",
      "Neighbors available: [43, 44, 47, 23, 24, 25, 27, 29]\n",
      "Added  43 to 4\n",
      "Neighbors: [0, 1, 2, 3, 4, 5, 7, 8, 10, 14, 15]\n",
      "Neighbors available: [3, 8]\n",
      "Added  8 to 0\n",
      "Neighbors: [3, 4, 6, 7, 10, 11, 12, 13, 14, 15]\n",
      "Neighbors available: [3]\n",
      "Added  3 to 1\n",
      "Neighbors: [4, 6, 8, 10, 11, 12, 13, 14, 15, 17, 18, 23, 24, 25]\n",
      "Neighbors available: [23, 24, 25]\n",
      "Added  24 to 2\n",
      "Neighbors: [32, 34, 37, 39, 40, 9, 42, 43, 46, 16, 8, 19, 21, 22, 26, 27, 31]\n",
      "Neighbors available: [32, 40, 9, 46, 16, 21, 26, 27]\n",
      "Added  21 to 3\n",
      "Neighbors: [34, 36, 37, 42, 43, 44, 47, 48, 23, 24, 25, 27, 28, 29]\n",
      "Neighbors available: [44, 47, 48, 23, 25, 27, 29]\n",
      "Added  29 to 4\n",
      "Neighbors: [0, 1, 2, 3, 4, 5, 7, 8, 9, 10, 14, 15, 19, 21, 24, 25]\n",
      "Neighbors available: [9, 25]\n",
      "Added  9 to 0\n",
      "Neighbors: [1, 2, 3, 4, 6, 7, 10, 11, 12, 13, 14, 15]\n",
      "Neighbors available: []\n",
      "Added nothing to 1\n",
      "Neighbors: [4, 6, 8, 10, 11, 12, 13, 14, 15, 17, 18, 23, 24, 25, 27, 28, 29]\n",
      "Neighbors available: [23, 25, 27]\n",
      "Added  23 to 2\n",
      "Neighbors: [32, 34, 37, 39, 40, 9, 42, 43, 46, 16, 8, 19, 21, 22, 25, 26, 27, 31]\n",
      "Neighbors available: [32, 40, 46, 16, 25, 26, 27]\n",
      "Added  25 to 3\n",
      "Neighbors: [34, 36, 37, 42, 43, 44, 47, 48, 20, 23, 24, 25, 27, 28, 29]\n",
      "Neighbors available: [44, 47, 48, 20, 27]\n",
      "Added  47 to 4\n",
      "Neighbors: [0, 1, 2, 3, 4, 5, 7, 8, 9, 10, 14, 15, 16, 19, 21, 24, 25]\n",
      "Neighbors available: [16]\n",
      "Added  16 to 0\n",
      "Neighbors: [1, 2, 3, 4, 6, 7, 10, 11, 12, 13, 14, 15]\n",
      "Neighbors available: []\n",
      "Added nothing to 1\n",
      "Neighbors: [4, 6, 8, 10, 11, 12, 13, 14, 15, 17, 18, 20, 23, 24, 25, 27, 28, 29]\n",
      "Neighbors available: [20, 27]\n",
      "Added  27 to 2\n",
      "Neighbors: [32, 14, 34, 37, 39, 40, 9, 42, 43, 46, 16, 8, 19, 21, 22, 24, 25, 26, 27, 28, 31]\n",
      "Neighbors available: [32, 40, 46, 26]\n",
      "Added  40 to 3\n",
      "Neighbors: [34, 36, 37, 42, 43, 44, 47, 48, 20, 23, 24, 25, 27, 28, 29]\n",
      "Neighbors available: [44, 48, 20]\n",
      "Added  44 to 4\n",
      "Neighbors: [0, 1, 2, 3, 4, 5, 7, 8, 9, 10, 14, 15, 16, 19, 21, 22, 24, 25]\n",
      "Neighbors available: []\n",
      "Added nothing to 0\n",
      "Neighbors: [1, 2, 3, 4, 6, 7, 10, 11, 12, 13, 14, 15]\n",
      "Neighbors available: []\n",
      "Added nothing to 1\n",
      "Neighbors: [4, 6, 8, 10, 11, 12, 13, 14, 15, 17, 18, 20, 21, 23, 24, 25, 26, 27, 28, 29, 32, 34, 36, 37]\n",
      "Neighbors available: [20, 26, 32]\n",
      "Added  20 to 2\n",
      "Neighbors: [32, 14, 34, 37, 39, 40, 9, 42, 43, 46, 16, 8, 19, 21, 22, 24, 25, 26, 27, 28, 31]\n",
      "Neighbors available: [32, 46, 26]\n",
      "Added  46 to 3\n",
      "Neighbors: [34, 36, 37, 42, 43, 44, 47, 48, 20, 23, 24, 25, 27, 28, 29]\n",
      "Neighbors available: [48]\n",
      "Added  48 to 4\n",
      "Neighbors: [0, 1, 2, 3, 4, 5, 7, 8, 9, 10, 14, 15, 16, 19, 21, 22, 24, 25]\n",
      "Neighbors available: []\n",
      "Added nothing to 0\n",
      "Neighbors: [1, 2, 3, 4, 6, 7, 10, 11, 12, 13, 14, 15]\n",
      "Neighbors available: []\n",
      "Added nothing to 1\n",
      "Neighbors: [4, 6, 8, 10, 11, 12, 13, 14, 15, 17, 18, 20, 21, 23, 24, 25, 26, 27, 28, 29, 32, 33, 34, 36, 37]\n",
      "Neighbors available: [26, 32, 33]\n",
      "Added  32 to 2\n",
      "Neighbors: [32, 14, 34, 37, 39, 40, 9, 42, 43, 46, 16, 8, 19, 21, 22, 24, 25, 26, 27, 28, 31]\n",
      "Neighbors available: [26]\n",
      "Added  26 to 3\n",
      "Neighbors: [34, 36, 37, 42, 43, 44, 47, 48, 20, 23, 24, 25, 27, 28, 29]\n",
      "Neighbors available: []\n",
      "Added nothing to 4\n",
      "Neighbors: [0, 1, 2, 3, 4, 5, 7, 8, 9, 10, 14, 15, 16, 19, 21, 22, 24, 25]\n",
      "Neighbors available: []\n",
      "Added nothing to 0\n",
      "Neighbors: [1, 2, 3, 4, 6, 7, 10, 11, 12, 13, 14, 15]\n",
      "Neighbors available: []\n",
      "Added nothing to 1\n",
      "Neighbors: [4, 6, 8, 10, 11, 12, 13, 14, 15, 17, 18, 19, 20, 21, 23, 24, 25, 26, 27, 28, 29, 32, 33, 34, 36, 37]\n",
      "Neighbors available: [33]\n",
      "Added  33 to 2\n",
      "Neighbors: [32, 14, 34, 37, 39, 40, 9, 42, 43, 46, 16, 8, 19, 21, 22, 24, 25, 26, 27, 28, 31]\n",
      "Neighbors available: []\n",
      "Added nothing to 3\n",
      "Neighbors: [34, 36, 37, 42, 43, 44, 47, 48, 20, 23, 24, 25, 27, 28, 29]\n",
      "Neighbors available: []\n",
      "Added nothing to 4\n",
      "Neighbors: [0, 1, 2, 3, 4, 5, 7, 8, 9, 10, 14, 15, 16, 19, 21, 22, 24, 25]\n",
      "Neighbors available: []\n",
      "Added nothing to 0\n",
      "Neighbors: [1, 2, 3, 4, 6, 7, 10, 11, 12, 13, 14, 15]\n",
      "Neighbors available: []\n",
      "Added nothing to 1\n",
      "Neighbors: [4, 6, 8, 10, 11, 12, 13, 14, 15, 17, 18, 19, 20, 21, 23, 24, 25, 26, 27, 28, 29, 30, 32, 33, 34, 35, 36, 37, 41]\n",
      "Neighbors available: [30, 35, 41]\n",
      "Added  35 to 2\n",
      "Neighbors: [32, 14, 34, 37, 39, 40, 9, 42, 43, 46, 16, 8, 19, 21, 22, 24, 25, 26, 27, 28, 31]\n",
      "Neighbors available: []\n",
      "Added nothing to 3\n",
      "Neighbors: [34, 36, 37, 42, 43, 44, 47, 48, 20, 23, 24, 25, 27, 28, 29]\n",
      "Neighbors available: []\n",
      "Added nothing to 4\n",
      "Neighbors: [0, 1, 2, 3, 4, 5, 7, 8, 9, 10, 14, 15, 16, 19, 21, 22, 24, 25]\n",
      "Neighbors available: []\n",
      "Added nothing to 0\n",
      "Neighbors: [1, 2, 3, 4, 6, 7, 10, 11, 12, 13, 14, 15]\n",
      "Neighbors available: []\n",
      "Added nothing to 1\n",
      "Neighbors: [4, 6, 8, 10, 11, 12, 13, 14, 15, 17, 18, 19, 20, 21, 23, 24, 25, 26, 27, 28, 29, 30, 32, 33, 34, 35, 36, 37, 38, 41, 45]\n",
      "Neighbors available: [30, 38, 41, 45]\n",
      "Added  41 to 2\n",
      "Neighbors: [32, 14, 34, 37, 39, 40, 9, 42, 43, 46, 16, 8, 19, 21, 22, 24, 25, 26, 27, 28, 31]\n",
      "Neighbors available: []\n",
      "Added nothing to 3\n",
      "Neighbors: [34, 36, 37, 42, 43, 44, 47, 48, 20, 23, 24, 25, 27, 28, 29]\n",
      "Neighbors available: []\n",
      "Added nothing to 4\n",
      "Neighbors: [0, 1, 2, 3, 4, 5, 7, 8, 9, 10, 14, 15, 16, 19, 21, 22, 24, 25]\n",
      "Neighbors available: []\n",
      "Added nothing to 0\n",
      "Neighbors: [1, 2, 3, 4, 6, 7, 10, 11, 12, 13, 14, 15]\n",
      "Neighbors available: []\n",
      "Added nothing to 1\n",
      "Neighbors: [4, 6, 8, 10, 11, 12, 13, 14, 15, 17, 18, 19, 20, 21, 23, 24, 25, 26, 27, 28, 29, 30, 32, 33, 34, 35, 36, 37, 38, 41, 45]\n",
      "Neighbors available: [30, 38, 45]\n",
      "Added  30 to 2\n",
      "Neighbors: [32, 14, 34, 37, 39, 40, 9, 42, 43, 46, 16, 8, 19, 21, 22, 24, 25, 26, 27, 28, 31]\n",
      "Neighbors available: []\n",
      "Added nothing to 3\n",
      "Neighbors: [34, 36, 37, 42, 43, 44, 47, 48, 20, 23, 24, 25, 27, 28, 29]\n",
      "Neighbors available: []\n",
      "Added nothing to 4\n",
      "Neighbors: [0, 1, 2, 3, 4, 5, 7, 8, 9, 10, 14, 15, 16, 19, 21, 22, 24, 25]\n",
      "Neighbors available: []\n",
      "Added nothing to 0\n",
      "Neighbors: [1, 2, 3, 4, 6, 7, 10, 11, 12, 13, 14, 15]\n",
      "Neighbors available: []\n",
      "Added nothing to 1\n",
      "Neighbors: [4, 6, 8, 10, 11, 12, 13, 14, 15, 17, 18, 19, 20, 21, 23, 24, 25, 26, 27, 28, 29, 30, 32, 33, 34, 35, 36, 37, 38, 41, 45]\n",
      "Neighbors available: [38, 45]\n",
      "Added  38 to 2\n",
      "Neighbors: [32, 14, 34, 37, 39, 40, 9, 42, 43, 46, 16, 8, 19, 21, 22, 24, 25, 26, 27, 28, 31]\n",
      "Neighbors available: []\n",
      "Added nothing to 3\n",
      "Neighbors: [34, 36, 37, 42, 43, 44, 47, 48, 20, 23, 24, 25, 27, 28, 29]\n",
      "Neighbors available: []\n",
      "Added nothing to 4\n",
      "Neighbors: [0, 1, 2, 3, 4, 5, 7, 8, 9, 10, 14, 15, 16, 19, 21, 22, 24, 25]\n",
      "Neighbors available: []\n",
      "Added nothing to 0\n",
      "Neighbors: [1, 2, 3, 4, 6, 7, 10, 11, 12, 13, 14, 15]\n",
      "Neighbors available: []\n",
      "Added nothing to 1\n",
      "Neighbors: [4, 6, 8, 10, 11, 12, 13, 14, 15, 17, 18, 19, 20, 21, 23, 24, 25, 26, 27, 28, 29, 30, 32, 33, 34, 35, 36, 37, 38, 41, 45]\n",
      "Neighbors available: [45]\n",
      "Added  45 to 2\n",
      "Neighbors: [32, 14, 34, 37, 39, 40, 9, 42, 43, 46, 16, 8, 19, 21, 22, 24, 25, 26, 27, 28, 31]\n",
      "Neighbors available: []\n",
      "Added nothing to 3\n",
      "Neighbors: [34, 36, 37, 42, 43, 44, 47, 48, 20, 23, 24, 25, 27, 28, 29]\n",
      "Neighbors available: []\n",
      "Added nothing to 4\n"
     ]
    }
   ],
   "source": [
    "enclaves = prb.initialize(A, q, seeds=np.random.randint(0, len(A.Atoms)-1, 5), rseed=100, verbose=2)"
   ]
  },
  {
   "cell_type": "code",
   "execution_count": 7,
   "metadata": {
    "collapsed": false
   },
   "outputs": [
    {
     "name": "stdout",
     "output_type": "stream",
     "text": [
      "not improving, switching pairs...\n",
      "One pairwise cycle done\n",
      "improving...\n",
      "not improving, switching pairs...\n",
      "One pairwise cycle done\n",
      "improving...\n",
      "improving...\n",
      "improving...\n",
      "improving...\n",
      "improving...\n",
      "not improving, switching pairs...\n",
      "One pairwise cycle done\n",
      "not improving, switching pairs...\n",
      "One pairwise cycle done\n",
      "not improving, switching pairs...\n",
      "One pairwise cycle done\n",
      "not improving, switching pairs...\n",
      "One pairwise cycle done\n",
      "not improving, switching pairs...\n",
      "One pairwise cycle done\n",
      "not improving, switching pairs...\n",
      "One pairwise cycle done\n",
      "not improving, switching pairs...\n",
      "One pairwise cycle done\n",
      "improving...\n",
      "improving...\n",
      "not improving, switching pairs...\n",
      "One pairwise cycle done\n",
      "not improving, switching pairs...\n",
      "One pairwise cycle done\n",
      "not improving, switching pairs...\n",
      "One pairwise cycle done\n",
      "not improving, switching pairs...\n",
      "One pairwise cycle done\n",
      "not improving, switching pairs...\n",
      "One pairwise cycle done\n",
      "not improving, switching pairs...\n",
      "One pairwise cycle done\n",
      "not improving, switching pairs...\n",
      "One pairwise cycle done\n",
      "not improving, switching pairs...\n",
      "One pairwise cycle done\n"
     ]
    }
   ],
   "source": [
    "changes = prb.tabu_search(A,  verbose=2)"
   ]
  },
  {
   "cell_type": "code",
   "execution_count": 8,
   "metadata": {
    "collapsed": false
   },
   "outputs": [
    {
     "name": "stderr",
     "output_type": "stream",
     "text": [
      "/usr/lib/python2.7/site-packages/matplotlib/figure.py:387: UserWarning: matplotlib is currently using a non-GUI backend, so cannot show the figure\n",
      "  \"matplotlib is currently using a non-GUI backend, \"\n"
     ]
    },
    {
     "data": {
      "image/png": "[encoded data removed]",
      "text/plain": [
       "<matplotlib.figure.Figure at 0x7f9950103e50>"
      ]
     },
     "metadata": {},
     "output_type": "display_data"
    }
   ],
   "source": [
    "reg_fig = plt.figure()\n",
    "reg_ax = reg_fig.add_subplot(111) \n",
    "for a in A.Atoms.values():\n",
    "    reg_ax.add_patch(d.PolygonPatch(a.polygon))\n",
    "\n",
    "reg_ax.axis([5.5,12,10,15])\n",
    "reg_fig.show()"
   ]
  },
  {
   "cell_type": "code",
   "execution_count": 9,
   "metadata": {
    "collapsed": false
   },
   "outputs": [
    {
     "ename": "SyntaxError",
     "evalue": "invalid syntax (<ipython-input-9-3d6878b258a3>, line 5)",
     "output_type": "error",
     "traceback": [
      "\u001b[1;36m  File \u001b[1;32m\"<ipython-input-9-3d6878b258a3>\"\u001b[1;36m, line \u001b[1;32m5\u001b[0m\n\u001b[1;33m    reg_ax.add_patch(d.(r.polygon))\u001b[0m\n\u001b[1;37m                       ^\u001b[0m\n\u001b[1;31mSyntaxError\u001b[0m\u001b[1;31m:\u001b[0m invalid syntax\n"
     ]
    }
   ],
   "source": [
    "reg_fig = plt.figure()\n",
    "reg_ax = reg_fig.add_subplot(111) \n",
    "for r in A.Regions:\n",
    "    r.build_polygon()\n",
    "    reg_ax.add_patch(d.(r.polygon))\n",
    "\n",
    "reg_ax.axis([5.5,12,10,15])\n",
    "reg_fig.show()"
   ]
  }
 ],
 "metadata": {
  "kernelspec": {
   "display_name": "Python 2",
   "language": "python",
   "name": "python2"
  },
  "language_info": {
   "codemirror_mode": {
    "name": "ipython",
    "version": 2
   },
   "file_extension": ".py",
   "mimetype": "text/x-python",
   "name": "python",
   "nbconvert_exporter": "python",
   "pygments_lexer": "ipython2",
   "version": "2.7.10"
  }
 },
 "nbformat": 4,
 "nbformat_minor": 0
}
