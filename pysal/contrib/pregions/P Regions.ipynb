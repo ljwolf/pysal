{
 "cells": [
  {
   "cell_type": "markdown",
   "metadata": {},
   "source": [
    "This is a demo of a new, general purpose p-regionalizer"
   ]
  },
  {
   "cell_type": "code",
   "execution_count": 1,
   "metadata": {
    "collapsed": true
   },
   "outputs": [],
   "source": [
    "import pysal as ps\n",
    "import numpy as np\n",
    "import descartes as d\n",
    "import matplotlib.pyplot as plt\n",
    "%matplotlib inline"
   ]
  },
  {
   "cell_type": "markdown",
   "metadata": {},
   "source": [
    "First, this module is separated into classes and building tools. The classes form the basic data structure model, which is broadly:\n",
    "\n",
    "Map (is composed of) Region(s) (are composed of) Atoms\n",
    "\n",
    "Every global problem has only one map, where all the data are stored. Each region is composed of atoms that point back to the top Map, to avoid data duplication. "
   ]
  },
  {
   "cell_type": "code",
   "execution_count": 2,
   "metadata": {
    "collapsed": false
   },
   "outputs": [
    {
     "data": {
      "text/plain": [
       "<module 'pr_classes' from 'pr_classes.pyc'>"
      ]
     },
     "execution_count": 2,
     "metadata": {},
     "output_type": "execute_result"
    }
   ],
   "source": [
    "import pr_classes as prc\n",
    "reload(prc)"
   ]
  },
  {
   "cell_type": "code",
   "execution_count": 3,
   "metadata": {
    "collapsed": false
   },
   "outputs": [
    {
     "data": {
      "text/plain": [
       "<module 'pr_build' from 'pr_build.pyc'>"
      ]
     },
     "execution_count": 3,
     "metadata": {},
     "output_type": "execute_result"
    }
   ],
   "source": [
    "import pr_build as prb\n",
    "reload(prb)"
   ]
  },
  {
   "cell_type": "markdown",
   "metadata": {},
   "source": [
    "Constraints and objectives are specified with a `name:callable` dictionary. \n",
    "\n",
    "This is to allow the application of these generic functions to the data during the solver process (in `pr_build`). For instance, the \"floor\" component of the first dictionary specifies that each part of the objective `meandiff` needs to be greater than or equal to 450, like an LP written in zero-order form, where constraints are written:\n",
    "\n",
    "minimize $c^T x$\n",
    "\n",
    "Subject to: $ Ax - b \\leq 0$\n",
    "\n",
    "$0 \\leq x      $"
   ]
  },
  {
   "cell_type": "markdown",
   "metadata": {},
   "source": [
    "Here, in this case, we specify that our two objectives are that the mean difference is minimized, with the attribute being minimized having a value at least 450 in each region. \n",
    "\n",
    "In addition, the constraint dictates that there must be at least 4 atoms in a region. \n",
    "\n",
    "Clearly, the floor could be moved to the constraints, but I placed it in the objective dictionary because it affects the way the objective is satisfied.\n",
    "\n",
    "Here, we see that these k/v pairs are stored in dictionary, either constraints or objectives. I'd love to figure out a way to attach the docstrings and reprs to to these still, and would probably use functools."
   ]
  },
  {
   "cell_type": "code",
   "execution_count": 11,
   "metadata": {
    "collapsed": true
   },
   "outputs": [],
   "source": [
    "ob = prc.Objective()\n",
    "q.add_objective(np.var, 'total')"
   ]
  },
  {
   "cell_type": "markdown",
   "metadata": {},
   "source": [
    "An area is initialized by a call to a filepath and an indication of the kind of contiguity used to construct regions. Obviously the contiguity measure can be changed to non-contiguity measures, but right now, that's the way the solver works, since p-regions solvers tend to focus on contiguous regions. "
   ]
  },
  {
   "cell_type": "code",
   "execution_count": 12,
   "metadata": {
    "collapsed": false
   },
   "outputs": [],
   "source": [
    "A = prc.Area(ps.examples.get_path('columbus.shp'), contiguity='rook')"
   ]
  },
  {
   "cell_type": "markdown",
   "metadata": {},
   "source": [
    "Then, we have to apply the objective to the map, holding the objective to be the same over each region. "
   ]
  },
  {
   "cell_type": "code",
   "execution_count": 15,
   "metadata": {
    "collapsed": false
   },
   "outputs": [],
   "source": [
    "A.set_obj_fn(q)"
   ]
  },
  {
   "cell_type": "markdown",
   "metadata": {
    "collapsed": false
   },
   "source": [
    "Finally, we can solve the region. I pass seeds here and say that only 20 iterations should be spent on each inner fitting loop of a tabu search for suitable swaps. I also allow the passing of a custom randomized seed and a verbose option, which prints the moves."
   ]
  },
  {
   "cell_type": "code",
   "execution_count": 17,
   "metadata": {
    "collapsed": false,
    "scrolled": true
   },
   "outputs": [
    {
     "name": "stdout",
     "output_type": "stream",
     "text": [
      "Iteration: 0 Candidates Remaining: 45\n"
     ]
    },
    {
     "data": {
      "text/plain": [
       "{}"
      ]
     },
     "execution_count": 17,
     "metadata": {},
     "output_type": "execute_result"
    }
   ],
   "source": [
    "prb.initialize(A,, seeds = [1,5,11,19], MAX_ITERS = 20, verbose=True, rseed = 27)"
   ]
  },
  {
   "cell_type": "code",
   "execution_count": 70,
   "metadata": {
    "collapsed": false
   },
   "outputs": [],
   "source": [
    "%matplotlib inline"
   ]
  },
  {
   "cell_type": "code",
   "execution_count": 71,
   "metadata": {
    "collapsed": false
   },
   "outputs": [
    {
     "data": {
      "image/png": "[encoded data removed]",
      "text/plain": [
       "<matplotlib.figure.Figure at 0x7f1e659fba10>"
      ]
     },
     "metadata": {},
     "output_type": "display_data"
    }
   ],
   "source": [
    "reg_fig = plt.figure()\n",
    "reg_ax = reg_fig.add_subplot(111) \n",
    "for r in A.Regions:\n",
    "    r.build_polygon()\n",
    "    reg_ax.add_patch(d.PolygonPatch(r.polygon))\n",
    "\n",
    "reg_ax.axis([5.5,12,10,15])\n",
    "reg_fig.show()"
   ]
  },
  {
   "cell_type": "code",
   "execution_count": 72,
   "metadata": {
    "collapsed": false,
    "scrolled": true
   },
   "outputs": [
    {
     "data": {
      "image/png": "[encoded data removed]",
      "text/plain": [
       "<matplotlib.figure.Figure at 0x7f1e65a20f10>"
      ]
     },
     "metadata": {},
     "output_type": "display_data"
    }
   ],
   "source": [
    "area_fig = plt.figure()\n",
    "area_ax = area_fig.add_subplot(111)\n",
    "\n",
    "for a in A.Atoms.values():\n",
    "    area_ax.add_patch(d.PolygonPatch(a.polygon))\n",
    "\n",
    "area_ax.axis([5.5, 12, 10, 15])\n",
    "plt.show()"
   ]
  },
  {
   "cell_type": "code",
   "execution_count": 73,
   "metadata": {
    "collapsed": false
   },
   "outputs": [],
   "source": [
    "area_fig.savefig?"
   ]
  },
  {
   "cell_type": "code",
   "execution_count": 35,
   "metadata": {
    "collapsed": false
   },
   "outputs": [],
   "source": [
    "df = ps.open(ps.examples.get_path('columbus.dbf'))"
   ]
  },
  {
   "cell_type": "code",
   "execution_count": 36,
   "metadata": {
    "collapsed": false
   },
   "outputs": [
    {
     "data": {
      "text/plain": [
       "20"
      ]
     },
     "execution_count": 36,
     "metadata": {},
     "output_type": "execute_result"
    }
   ],
   "source": [
    "df.n_fields"
   ]
  },
  {
   "cell_type": "code",
   "execution_count": null,
   "metadata": {
    "collapsed": true
   },
   "outputs": [],
   "source": []
  }
 ],
 "metadata": {
  "kernelspec": {
   "display_name": "Python 2",
   "language": "python",
   "name": "python2"
  },
  "language_info": {
   "codemirror_mode": {
    "name": "ipython",
    "version": 2
   },
   "file_extension": ".py",
   "mimetype": "text/x-python",
   "name": "python",
   "nbconvert_exporter": "python",
   "pygments_lexer": "ipython2",
   "version": "2.7.10"
  }
 },
 "nbformat": 4,
 "nbformat_minor": 0
}
