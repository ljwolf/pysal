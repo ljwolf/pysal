{
 "cells": [
  {
   "cell_type": "code",
   "execution_count": 1,
   "metadata": {
    "collapsed": true
   },
   "outputs": [],
   "source": [
    "import pysal as ps\n",
    "from pysal.contrib import compact as com\n",
    "import matplotlib.pyplot as plt\n",
    "import numpy as np\n",
    "from scipy.spatial import ConvexHull\n",
    "%matplotlib inline"
   ]
  },
  {
   "cell_type": "code",
   "execution_count": 2,
   "metadata": {
    "collapsed": true
   },
   "outputs": [],
   "source": [
    "chains = ps.open(ps.examples.get_path('columbus.shp')).read()"
   ]
  },
  {
   "cell_type": "code",
   "execution_count": 3,
   "metadata": {
    "collapsed": false
   },
   "outputs": [],
   "source": [
    "reocks = [com.reock(chain) for chain in chains]"
   ]
  },
  {
   "cell_type": "markdown",
   "metadata": {},
   "source": [
    "The reock index should vary between 0 and 1. If any reock measure is greater than 1, it means that the minimum bounding circle found has a smaller area than the area of the shape, which is impossible by the defintion of MBC. "
   ]
  },
  {
   "cell_type": "code",
   "execution_count": 4,
   "metadata": {
    "collapsed": false
   },
   "outputs": [
    {
     "data": {
      "text/plain": [
       "[]"
      ]
     },
     "execution_count": 4,
     "metadata": {},
     "output_type": "execute_result"
    }
   ],
   "source": [
    "[(reocks.index(k), k) for k in reocks if k > 1]"
   ]
  },
  {
   "cell_type": "code",
   "execution_count": 5,
   "metadata": {
    "collapsed": false
   },
   "outputs": [
    {
     "data": {
      "text/plain": [
       "[0.5181241141140267,\n",
       " 0.5007021448530843,\n",
       " 0.4142321206451029,\n",
       " 0.3691173977320912,\n",
       " 0.6281211299986366,\n",
       " 0.45319704567805574,\n",
       " 0.4742085987690198,\n",
       " 0.4969786162299148,\n",
       " 0.5070595695632538,\n",
       " 0.46794699464889,\n",
       " 0.49787161299395916,\n",
       " 0.3877377873261624,\n",
       " 0.3399563550400969,\n",
       " 0.3411080764041432,\n",
       " 0.43463420365157673,\n",
       " 0.4269883508302141,\n",
       " 0.546098791798779,\n",
       " 0.37393372634296373,\n",
       " 0.3795061050164041,\n",
       " 0.4830774965740454,\n",
       " 0.32362923583916975,\n",
       " 0.3882122351441752,\n",
       " 0.49044702841912674,\n",
       " 0.3586735382558894,\n",
       " 0.5906840005520118,\n",
       " 0.5213998122841581,\n",
       " 0.49456059678231107,\n",
       " 0.6356979126492079,\n",
       " 0.5113332149409118,\n",
       " 0.43775338735356495,\n",
       " 0.2715412384779725,\n",
       " 0.3223288401707723,\n",
       " 0.2919059044565228,\n",
       " 0.4662434194159314,\n",
       " 0.40595387074450806,\n",
       " 0.5248893503111812,\n",
       " 0.5896112972216031,\n",
       " 0.5410926711420471,\n",
       " 0.35920053976267674,\n",
       " 0.47176775229375195,\n",
       " 0.6137238587468492,\n",
       " 0.6461689652717776,\n",
       " 0.6402290507526798,\n",
       " 0.4750992741781224,\n",
       " 0.6343974530339201,\n",
       " 0.4686480535413637,\n",
       " 0.5576130416033727,\n",
       " 0.5948869081879602,\n",
       " 0.43029942381851605]"
      ]
     },
     "execution_count": 5,
     "metadata": {},
     "output_type": "execute_result"
    }
   ],
   "source": [
    "reocks"
   ]
  },
  {
   "cell_type": "markdown",
   "metadata": {},
   "source": [
    "Ugh, this means our shit isn't working correctly. Let's debug. "
   ]
  },
  {
   "cell_type": "code",
   "execution_count": 5,
   "metadata": {
    "collapsed": true
   },
   "outputs": [],
   "source": [
    "bads = [reocks.index(k) for k in reocks if k > 1]"
   ]
  },
  {
   "cell_type": "code",
   "execution_count": 6,
   "metadata": {
    "collapsed": false
   },
   "outputs": [
    {
     "data": {
      "text/plain": [
       "[]"
      ]
     },
     "execution_count": 6,
     "metadata": {},
     "output_type": "execute_result"
    }
   ],
   "source": [
    "bads"
   ]
  },
  {
   "cell_type": "code",
   "execution_count": 7,
   "metadata": {
    "collapsed": false,
    "scrolled": true
   },
   "outputs": [],
   "source": [
    "for idx in bads:\n",
    "    pset = [point for part in chains[idx].parts for point in part[:-1]]\n",
    "    fig = plt.figure()\n",
    "    ax1=fig.add_subplot(1,1,1)\n",
    "    bad_mbc = com.mbc.minimum_bounding_circle(pset)\n",
    "    radius, (cx, cy) = bad_mbc\n",
    "    circ = plt.Circle((cx,cy), radius)\n",
    "    ax1.add_patch(circ)\n",
    "    plt.plot([p[0] for p in pset], [p[1] for p in pset], 'k')\n",
    "    plt.show()"
   ]
  },
  {
   "cell_type": "markdown",
   "metadata": {},
   "source": [
    "### just one example"
   ]
  },
  {
   "cell_type": "code",
   "execution_count": 8,
   "metadata": {
    "collapsed": false
   },
   "outputs": [],
   "source": [
    "pset = [point for part in chains[8].parts for point in part[:-1]]"
   ]
  },
  {
   "cell_type": "code",
   "execution_count": 9,
   "metadata": {
    "collapsed": true
   },
   "outputs": [],
   "source": [
    "pset = ConvexHull(pset).points.tolist()"
   ]
  },
  {
   "cell_type": "code",
   "execution_count": 10,
   "metadata": {
    "collapsed": false
   },
   "outputs": [
    {
     "data": {
      "text/plain": [
       "False"
      ]
     },
     "execution_count": 10,
     "metadata": {},
     "output_type": "execute_result"
    }
   ],
   "source": [
    "com.mbc.not_clockwise(pset)"
   ]
  },
  {
   "cell_type": "code",
   "execution_count": 11,
   "metadata": {
    "collapsed": true
   },
   "outputs": [],
   "source": [
    "POINTS = [p for p in pset]"
   ]
  },
  {
   "cell_type": "code",
   "execution_count": 12,
   "metadata": {
    "collapsed": true
   },
   "outputs": [],
   "source": [
    "removed = []\n",
    "i = 0"
   ]
  },
  {
   "cell_type": "code",
   "execution_count": 13,
   "metadata": {
    "collapsed": true
   },
   "outputs": [],
   "source": [
    "angles = [com.mbc._angle(com.mbc._prec(p, pset), p, com.mbc._succ(p, pset)) for p in pset]\n",
    "circles = [com.mbc._circle(com.mbc._prec(p, pset), p, com.mbc._succ(p, pset)) for p in pset]\n",
    "radii = [c[0] for c in circles]\n",
    "lexord = np.lexsort((radii, angles))\n",
    "lexmax = lexord[-1]\n",
    "candidate = (com.mbc._prec(pset[lexmax], pset), \n",
    "             pset[lexmax], \n",
    "             com.mbc._succ(pset[lexmax], pset))"
   ]
  },
  {
   "cell_type": "code",
   "execution_count": 14,
   "metadata": {
    "collapsed": false
   },
   "outputs": [
    {
     "name": "stdout",
     "output_type": "stream",
     "text": [
      "Failure!\n",
      "(12, [10.093509674072266, 12.900219917297363])\n"
     ]
    }
   ],
   "source": [
    "if not angles[lexmax] <= com.mbc.PI/2.:\n",
    "    print('Failure!')\n",
    "    removed.append((lexmax, pset.pop(lexmax)))\n",
    "    i+=1\n",
    "    print removed[-1]"
   ]
  },
  {
   "cell_type": "code",
   "execution_count": 15,
   "metadata": {
    "collapsed": false
   },
   "outputs": [
    {
     "data": {
      "image/png": "[encoded data removed]",
      "text/plain": [
       "<matplotlib.figure.Figure at 0x7f353197fd90>"
      ]
     },
     "metadata": {},
     "output_type": "display_data"
    }
   ],
   "source": [
    "fig = plt.figure()\n",
    "ax1=fig.add_subplot(1,1,1)\n",
    "plt.plot([p[0] for p in POINTS], [p[1] for p in POINTS], 'k')\n",
    "for i, (_, (px, py)) in enumerate(removed):\n",
    "    plt.plot(px,py, 'ro', alpha=1./(len(removed)-i))\n",
    "plt.show()"
   ]
  }
 ],
 "metadata": {
  "kernelspec": {
   "display_name": "Python 2",
   "language": "python",
   "name": "python2"
  },
  "language_info": {
   "codemirror_mode": {
    "name": "ipython",
    "version": 2
   },
   "file_extension": ".py",
   "mimetype": "text/x-python",
   "name": "python",
   "nbconvert_exporter": "python",
   "pygments_lexer": "ipython2",
   "version": "2.7.11"
  }
 },
 "nbformat": 4,
 "nbformat_minor": 0
}
